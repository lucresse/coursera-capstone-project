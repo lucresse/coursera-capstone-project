{
    "nbformat_minor": 1, 
    "cells": [
        {
            "source": "## capstone project notebook", 
            "cell_type": "markdown", 
            "metadata": {
                "collapsed": true
            }
        }, 
        {
            "execution_count": 42, 
            "cell_type": "code", 
            "metadata": {}, 
            "outputs": [], 
            "source": "#Load dataset\nimport pandas as pd\nurl = \"https://raw.githubusercontent.com/callxpert/datasets/master/Loan-applicant-details.csv\"\nnames = ['Loan_ID','Gender','Married','Dependents','Education','Self_Employed','ApplicantIncome','CoapplicantIncome','LoanAmount','Loan_Amount_Term','Credit_History','Property_Area','Loan_Status']\ndataset = pd.read_csv(url, names=names)"
        }, 
        {
            "execution_count": 43, 
            "cell_type": "code", 
            "metadata": {}, 
            "outputs": [
                {
                    "output_type": "stream", 
                    "name": "stdout", 
                    "text": "    Loan_ID Gender Married Dependents     Education Self_Employed  \\\n0  LP001003   Male     Yes          1      Graduate            No   \n1  LP001005   Male     Yes          0      Graduate           Yes   \n2  LP001006   Male     Yes          0  Not Graduate            No   \n3  LP001008   Male      No          0      Graduate            No   \n4  LP001011   Male     Yes          2      Graduate           Yes   \n\n   ApplicantIncome  CoapplicantIncome  LoanAmount  Loan_Amount_Term  \\\n0             4583             1508.0         128               360   \n1             3000                0.0          66               360   \n2             2583             2358.0         120               360   \n3             6000                0.0         141               360   \n4             5417             4196.0         267               360   \n\n   Credit_History Property_Area Loan_Status  \n0               1         Rural           N  \n1               1         Urban           Y  \n2               1         Urban           Y  \n3               1         Urban           Y  \n4               1         Urban           Y  \n"
                }
            ], 
            "source": "print(dataset.head(5))"
        }, 
        {
            "execution_count": 44, 
            "cell_type": "code", 
            "metadata": {}, 
            "outputs": [], 
            "source": "from sklearn.preprocessing import LabelEncoder\nvar_mod = ['Gender','Married','Dependents','Education','Self_Employed','Property_Area','Loan_Status']\nle = LabelEncoder()\nfor i in var_mod:\n    dataset[i] = le.fit_transform(dataset[i])"
        }, 
        {
            "execution_count": 45, 
            "cell_type": "code", 
            "metadata": {}, 
            "outputs": [
                {
                    "execution_count": 45, 
                    "metadata": {}, 
                    "data": {
                        "text/plain": "(480, 13)"
                    }, 
                    "output_type": "execute_result"
                }
            ], 
            "source": "dataset.shape"
        }, 
        {
            "execution_count": 46, 
            "cell_type": "code", 
            "metadata": {}, 
            "outputs": [], 
            "source": "#Load libraries\nimport pandas as pd\nimport numpy as np\nimport matplotlib.pyplot as plt\nfrom sklearn import model_selection\nfrom sklearn.metrics import accuracy_score\nfrom sklearn.linear_model import LogisticRegression\nfrom sklearn.linear_model import LinearRegression\nfrom sklearn.ensemble import RandomForestClassifier\nfrom sklearn.neighbors import KNeighborsClassifier\nfrom sklearn.svm import SVC\nfrom sklearn.tree import DecisionTreeClassifier, export_graphviz\nfrom sklearn.model_selection import train_test_split"
        }, 
        {
            "execution_count": 55, 
            "cell_type": "code", 
            "metadata": {}, 
            "outputs": [
                {
                    "output_type": "stream", 
                    "name": "stdout", 
                    "text": "Train set: (384, 5) (384,)\nTest set: (96, 5) (96,)\n"
                }
            ], 
            "source": "import numpy as np\nimport pandas as pd\nimport statsmodels.api as sm\nimport matplotlib.pyplot as plt\nfrom patsy import dmatrices\nfrom sklearn.linear_model import LogisticRegression\nfrom sklearn.model_selection import train_test_split\n#from sklearn.cross_validation import train_test_split\nfrom sklearn import metrics\n\narray = dataset.values\nX = dataset.iloc[:,6:11]\nY = dataset.iloc[:,12]\nfrom sklearn import preprocessing\nX = preprocessing.StandardScaler().fit(X).transform(X)\nx_train, x_test, y_train, y_test = train_test_split(X, Y, test_size=0.2, random_state=4)\nprint ('Train set:', x_train.shape,  y_train.shape)\nprint ('Test set:', x_test.shape,  y_test.shape)"
        }, 
        {
            "source": "# logistic regression", 
            "cell_type": "markdown", 
            "metadata": {}
        }, 
        {
            "execution_count": null, 
            "cell_type": "code", 
            "metadata": {}, 
            "outputs": [], 
            "source": "# K is the number of classes, in Logistic Regression k = 2"
        }, 
        {
            "execution_count": null, 
            "cell_type": "code", 
            "metadata": {}, 
            "outputs": [], 
            "source": "# accuracy evaluation"
        }, 
        {
            "execution_count": 59, 
            "cell_type": "code", 
            "metadata": {}, 
            "outputs": [
                {
                    "output_type": "stream", 
                    "name": "stdout", 
                    "text": "0.75\n"
                }
            ], 
            "source": "from sklearn.metrics import accuracy_score\nfrom sklearn.metrics import confusion_matrix\nfrom sklearn.linear_model import LogisticRegression\nfrom sklearn.metrics import confusion_matrix\nfrom sklearn.metrics import jaccard_similarity_score\n\n\n#model = LogisticRegression(C=0.01, solver='liblinear').fit(x_train,y_train)\n#Y=Y.astype('int')\nmodel = LogisticRegression(C=0.01, solver='liblinear').fit(x_train,y_train)\n#model.fit(x_train, y_train)\npredictions = model.predict(x_test)\nprint(metrics.accuracy_score(y_test, predictions))"
        }, 
        {
            "execution_count": 57, 
            "cell_type": "code", 
            "metadata": {}, 
            "outputs": [
                {
                    "output_type": "stream", 
                    "name": "stdout", 
                    "text": "[1 1 1 1 1 1 1 0 1 1 0 1 1 1 1 1 1 1 1 1 0 1 1 1 0 0 0 1 1 1 1 1 0 1 0 0 1\n 1 1 1 1 1 1 1 1 1 1 1 1 1 1 1 1 1 0 1 1 1 0 1 1 1 1 1 1 1 1 1 1 1 1 1 0 1\n 0 1 1 1 1 1 1 1 1 1 1 1 1 0 1 1 1 0 1 1 1 1]\n"
                }
            ], 
            "source": "print(predictions)"
        }, 
        {
            "execution_count": null, 
            "cell_type": "code", 
            "metadata": {}, 
            "outputs": [], 
            "source": "from sklearn.metrics import accuracy_score\nfrom sklearn.metrics import classification_report\nprint(classification_report(y_test,predictions))\nprint(\"Accuracy:\",metrics.accuracy_score(y_test, predictions))"
        }, 
        {
            "execution_count": null, 
            "cell_type": "code", 
            "metadata": {}, 
            "outputs": [], 
            "source": "#confusion matrix \n\nfrom sklearn.metrics import confusion_matrix\nconf = confusion_matrix(y_test, model.predict(X_test))\nconf"
        }, 
        {
            "source": "## KNN", 
            "cell_type": "markdown", 
            "metadata": {}
        }, 
        {
            "execution_count": 62, 
            "cell_type": "code", 
            "metadata": {}, 
            "outputs": [
                {
                    "output_type": "display_data", 
                    "data": {
                        "image/png": "[encoded data removed]", 
                        "text/plain": "<matplotlib.figure.Figure at 0x7fd9a6b7bef0>"
                    }, 
                    "metadata": {}
                }
            ], 
            "source": "# find the best value of k\nfrom sklearn import neighbors\nerrors = []\nfor k in range(2,15):\n    knn = neighbors.KNeighborsClassifier(k)\n    errors.append(100*(1 - knn.fit(x_train, y_train).score(x_test, y_test)))\nplt.plot(range(2,15), errors, 'o-')\nplt.show()"
        }, 
        {
            "execution_count": null, 
            "cell_type": "code", 
            "metadata": {}, 
            "outputs": [], 
            "source": "# so, the best value of k is 13"
        }, 
        {
            "execution_count": 75, 
            "cell_type": "code", 
            "metadata": {}, 
            "outputs": [
                {
                    "output_type": "stream", 
                    "name": "stdout", 
                    "text": "0.770833333333\n"
                }
            ], 
            "source": "# find the accuracy\nfrom sklearn.neighbors import KNeighborsClassifier\n\n\nknn = KNeighborsClassifier(n_neighbors=13)\nknn.fit(x_train, y_train)\ny_pred = knn.predict(x_test)\nprint(metrics.accuracy_score(y_test, y_pred))"
        }, 
        {
            "source": "# Decision tree", 
            "cell_type": "markdown", 
            "metadata": {}
        }, 
        {
            "execution_count": null, 
            "cell_type": "code", 
            "metadata": {}, 
            "outputs": [], 
            "source": "# the number of classes k = 2"
        }, 
        {
            "execution_count": 58, 
            "cell_type": "code", 
            "metadata": {}, 
            "outputs": [
                {
                    "output_type": "stream", 
                    "name": "stdout", 
                    "text": "0.697916666667\n"
                }
            ], 
            "source": "model = DecisionTreeClassifier()\nmodel.fit(x_train,y_train)\npredictions = model.predict(x_test)\nprint(metrics.accuracy_score(y_test, predictions))"
        }, 
        {
            "source": "# Random forest", 
            "cell_type": "markdown", 
            "metadata": {}
        }, 
        {
            "execution_count": 60, 
            "cell_type": "code", 
            "metadata": {}, 
            "outputs": [
                {
                    "output_type": "stream", 
                    "name": "stdout", 
                    "text": "0.75\n"
                }
            ], 
            "source": "model = RandomForestClassifier(n_estimators=100)\nmodel.fit(x_train,y_train)\npredictions = model.predict(x_test)\nprint(accuracy_score(y_test, predictions))"
        }, 
        {
            "source": "# SVM", 
            "cell_type": "markdown", 
            "metadata": {}
        }, 
        {
            "execution_count": null, 
            "cell_type": "code", 
            "metadata": {}, 
            "outputs": [], 
            "source": "import pandas as pd\nimport pylab as pl\nimport numpy as np\nimport scipy.optimize as opt\nfrom sklearn import preprocessing\nfrom sklearn.model_selection import train_test_split\n%matplotlib inline \nimport matplotlib.pyplot as plt"
        }, 
        {
            "execution_count": null, 
            "cell_type": "code", 
            "metadata": {}, 
            "outputs": [], 
            "source": "# in SVM k=2"
        }, 
        {
            "execution_count": 65, 
            "cell_type": "code", 
            "metadata": {}, 
            "outputs": [
                {
                    "execution_count": 65, 
                    "metadata": {}, 
                    "data": {
                        "text/plain": "SVC(C=1.0, cache_size=200, class_weight=None, coef0=0.0,\n  decision_function_shape='ovr', degree=3, gamma='auto', kernel='rbf',\n  max_iter=-1, probability=False, random_state=None, shrinking=True,\n  tol=0.001, verbose=False)"
                    }, 
                    "output_type": "execute_result"
                }
            ], 
            "source": "from sklearn import svm\nclf = svm.SVC(kernel='rbf')\nclf.fit(x_train, y_train) "
        }, 
        {
            "execution_count": 68, 
            "cell_type": "code", 
            "metadata": {}, 
            "outputs": [
                {
                    "execution_count": 68, 
                    "metadata": {}, 
                    "data": {
                        "text/plain": "array([1, 1, 1, 1, 1])"
                    }, 
                    "output_type": "execute_result"
                }
            ], 
            "source": "yhat = clf.predict(x_test)\nyhat [0:5]"
        }, 
        {
            "execution_count": 69, 
            "cell_type": "code", 
            "metadata": {}, 
            "outputs": [], 
            "source": "# Evaluation using f1_score\nfrom sklearn.metrics import classification_report, confusion_matrix\nimport itertools"
        }, 
        {
            "execution_count": 70, 
            "cell_type": "code", 
            "metadata": {}, 
            "outputs": [
                {
                    "execution_count": 70, 
                    "metadata": {}, 
                    "data": {
                        "text/plain": "0.69970238095238102"
                    }, 
                    "output_type": "execute_result"
                }
            ], 
            "source": "from sklearn.metrics import f1_score\nf1_score(y_test, yhat, average='weighted') "
        }, 
        {
            "execution_count": 71, 
            "cell_type": "code", 
            "metadata": {}, 
            "outputs": [
                {
                    "execution_count": 71, 
                    "metadata": {}, 
                    "data": {
                        "text/plain": "0.72916666666666663"
                    }, 
                    "output_type": "execute_result"
                }
            ], 
            "source": "# Evaluation using jaccard index\nfrom sklearn.metrics import jaccard_similarity_score\njaccard_similarity_score(y_test, yhat)"
        }, 
        {
            "execution_count": null, 
            "cell_type": "code", 
            "metadata": {}, 
            "outputs": [], 
            "source": ""
        }
    ], 
    "metadata": {
        "kernelspec": {
            "display_name": "Python 3.5", 
            "name": "python3", 
            "language": "python"
        }, 
        "language_info": {
            "mimetype": "text/x-python", 
            "nbconvert_exporter": "python", 
            "version": "3.5.5", 
            "name": "python", 
            "file_extension": ".py", 
            "pygments_lexer": "ipython3", 
            "codemirror_mode": {
                "version": 3, 
                "name": "ipython"
            }
        }
    }, 
    "nbformat": 4
}